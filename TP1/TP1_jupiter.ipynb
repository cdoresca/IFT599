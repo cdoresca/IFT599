{
 "cells": [
  {
   "cell_type": "markdown",
   "id": "cf0900cb",
   "metadata": {},
   "source": [
    "# TP1\n",
    "## Question 1.1\n",
    "Installer les packages\n"
   ]
  },
  {
   "cell_type": "code",
   "execution_count": 1,
   "id": "9d89673d",
   "metadata": {},
   "outputs": [
    {
     "name": "stdout",
     "output_type": "stream",
     "text": [
      "Requirement already satisfied: numpy in c:\\users\\charl\\appdata\\local\\programs\\python\\python312\\lib\\site-packages (1.26.3)\n",
      "Requirement already satisfied: pandas in c:\\users\\charl\\appdata\\local\\programs\\python\\python312\\lib\\site-packages (2.3.2)\n",
      "Requirement already satisfied: matplotlib in c:\\users\\charl\\appdata\\local\\programs\\python\\python312\\lib\\site-packages (3.8.3)\n",
      "Requirement already satisfied: scikit-learn in c:\\users\\charl\\appdata\\local\\programs\\python\\python312\\lib\\site-packages (1.7.2)\n",
      "Requirement already satisfied: mlxtend in c:\\users\\charl\\appdata\\local\\programs\\python\\python312\\lib\\site-packages (0.23.4)\n",
      "Requirement already satisfied: python-dateutil>=2.8.2 in c:\\users\\charl\\appdata\\local\\programs\\python\\python312\\lib\\site-packages (from pandas) (2.9.0.post0)\n",
      "Requirement already satisfied: pytz>=2020.1 in c:\\users\\charl\\appdata\\local\\programs\\python\\python312\\lib\\site-packages (from pandas) (2025.2)\n",
      "Requirement already satisfied: tzdata>=2022.7 in c:\\users\\charl\\appdata\\local\\programs\\python\\python312\\lib\\site-packages (from pandas) (2025.2)\n",
      "Requirement already satisfied: contourpy>=1.0.1 in c:\\users\\charl\\appdata\\local\\programs\\python\\python312\\lib\\site-packages (from matplotlib) (1.2.0)\n",
      "Requirement already satisfied: cycler>=0.10 in c:\\users\\charl\\appdata\\local\\programs\\python\\python312\\lib\\site-packages (from matplotlib) (0.12.1)\n",
      "Requirement already satisfied: fonttools>=4.22.0 in c:\\users\\charl\\appdata\\local\\programs\\python\\python312\\lib\\site-packages (from matplotlib) (4.50.0)\n",
      "Requirement already satisfied: kiwisolver>=1.3.1 in c:\\users\\charl\\appdata\\local\\programs\\python\\python312\\lib\\site-packages (from matplotlib) (1.4.5)\n",
      "Requirement already satisfied: packaging>=20.0 in c:\\users\\charl\\appdata\\local\\programs\\python\\python312\\lib\\site-packages (from matplotlib) (24.0)\n",
      "Requirement already satisfied: pillow>=8 in c:\\users\\charl\\appdata\\local\\programs\\python\\python312\\lib\\site-packages (from matplotlib) (10.2.0)\n",
      "Requirement already satisfied: pyparsing>=2.3.1 in c:\\users\\charl\\appdata\\local\\programs\\python\\python312\\lib\\site-packages (from matplotlib) (3.1.2)\n",
      "Requirement already satisfied: scipy>=1.8.0 in c:\\users\\charl\\appdata\\local\\programs\\python\\python312\\lib\\site-packages (from scikit-learn) (1.12.0)\n",
      "Requirement already satisfied: joblib>=1.2.0 in c:\\users\\charl\\appdata\\local\\programs\\python\\python312\\lib\\site-packages (from scikit-learn) (1.5.2)\n",
      "Requirement already satisfied: threadpoolctl>=3.1.0 in c:\\users\\charl\\appdata\\local\\programs\\python\\python312\\lib\\site-packages (from scikit-learn) (3.6.0)\n",
      "Requirement already satisfied: six>=1.5 in c:\\users\\charl\\appdata\\local\\programs\\python\\python312\\lib\\site-packages (from python-dateutil>=2.8.2->pandas) (1.16.0)\n",
      "Note: you may need to restart the kernel to use updated packages.\n"
     ]
    },
    {
     "name": "stderr",
     "output_type": "stream",
     "text": [
      "\n",
      "[notice] A new release of pip is available: 24.2 -> 25.2\n",
      "[notice] To update, run: python.exe -m pip install --upgrade pip\n"
     ]
    }
   ],
   "source": [
    "%pip install numpy pandas matplotlib scikit-learn mlxtend"
   ]
  },
  {
   "cell_type": "markdown",
   "id": "73879626",
   "metadata": {},
   "source": [
    "Importer les librairies et lecture des fichiers .csv et .json"
   ]
  },
  {
   "cell_type": "code",
   "execution_count": 2,
   "id": "d6262fb1",
   "metadata": {},
   "outputs": [],
   "source": [
    "import pandas as pd\n",
    "import matplotlib.pyplot as plt\n",
    "import json \n",
    "from sklearn.preprocessing import LabelEncoder\n",
    "from mlxtend.preprocessing import TransactionEncoder\n",
    "from mlxtend.frequent_patterns import apriori, fpgrowth, association_rules\n",
    "import numpy as np\n",
    "\n",
    "user = pd.read_csv('users_data.csv')\n",
    "card = pd.read_csv('cards_data.csv')\n",
    "transaction  = pd.read_csv('transactions_data.csv', dtype={'zip': str, 'mcc': str})\n",
    "\n",
    "with open('mcc_codes.json', 'r') as f:\n",
    "        mcc_code = json.load(f)\n",
    "\n",
    "df_fraudes = pd.read_json(\"train_fraud_labels.json\")\n",
    "df_fraudes=df_fraudes.reset_index(names='trans_id')\n",
    "df_fraudes['target'] = 'fraude=' + df_fraudes['target'].str.lower()"
   ]
  },
  {
   "cell_type": "markdown",
   "id": "72eccf32",
   "metadata": {},
   "source": [
    "Faire des merges pour avoir une seule dataframe"
   ]
  },
  {
   "cell_type": "code",
   "execution_count": null,
   "id": "5b2b144c",
   "metadata": {},
   "outputs": [],
   "source": [
    "# Fusion des tableaux user et card selon le id user\n",
    "user_card = pd.merge(user, card, how = 'left', left_on = 'id', right_on='client_id',suffixes=('_user','_card')).drop('client_id',axis = 1)\n",
    "\n",
    "# Fusion des tableau card et transaction selon le id card\n",
    "df = pd.merge(user_card, transaction, how = 'left', left_on = 'id_card', right_on='card_id',suffixes=('_user','_transaction')).drop(columns=['card_id','client_id'])\n",
    "df.rename(columns={'id': 'id_transaction'}, inplace=True)\n",
    "\n",
    "df=pd.merge(df, df_fraudes,left_on='id_transaction',right_on='trans_id')\n",
    "df.rename(columns={'target': 'fraude'}, inplace=True)\n"
   ]
  },
  {
   "cell_type": "code",
   "execution_count": 4,
   "id": "82e845a3",
   "metadata": {},
   "outputs": [
    {
     "data": {
      "text/html": [
       "<div>\n",
       "<style scoped>\n",
       "    .dataframe tbody tr th:only-of-type {\n",
       "        vertical-align: middle;\n",
       "    }\n",
       "\n",
       "    .dataframe tbody tr th {\n",
       "        vertical-align: top;\n",
       "    }\n",
       "\n",
       "    .dataframe thead th {\n",
       "        text-align: right;\n",
       "    }\n",
       "</style>\n",
       "<table border=\"1\" class=\"dataframe\">\n",
       "  <thead>\n",
       "    <tr style=\"text-align: right;\">\n",
       "      <th></th>\n",
       "      <th>id_user</th>\n",
       "      <th>current_age</th>\n",
       "      <th>retirement_age</th>\n",
       "      <th>birth_year</th>\n",
       "      <th>birth_month</th>\n",
       "      <th>gender</th>\n",
       "      <th>address</th>\n",
       "      <th>latitude</th>\n",
       "      <th>longitude</th>\n",
       "      <th>per_capita_income</th>\n",
       "      <th>...</th>\n",
       "      <th>amount</th>\n",
       "      <th>use_chip</th>\n",
       "      <th>merchant_id</th>\n",
       "      <th>merchant_city</th>\n",
       "      <th>merchant_state</th>\n",
       "      <th>zip</th>\n",
       "      <th>mcc</th>\n",
       "      <th>errors</th>\n",
       "      <th>trans_id</th>\n",
       "      <th>fraude</th>\n",
       "    </tr>\n",
       "  </thead>\n",
       "  <tbody>\n",
       "    <tr>\n",
       "      <th>0</th>\n",
       "      <td>825</td>\n",
       "      <td>53</td>\n",
       "      <td>66</td>\n",
       "      <td>1966</td>\n",
       "      <td>11</td>\n",
       "      <td>Female</td>\n",
       "      <td>462 Rose Lane</td>\n",
       "      <td>34.15</td>\n",
       "      <td>-117.76</td>\n",
       "      <td>$29278</td>\n",
       "      <td>...</td>\n",
       "      <td>$57.82</td>\n",
       "      <td>Swipe Transaction</td>\n",
       "      <td>50072.0</td>\n",
       "      <td>La Verne</td>\n",
       "      <td>CA</td>\n",
       "      <td>91750</td>\n",
       "      <td>5912</td>\n",
       "      <td>NaN</td>\n",
       "      <td>7483459</td>\n",
       "      <td>fraude=no</td>\n",
       "    </tr>\n",
       "    <tr>\n",
       "      <th>1</th>\n",
       "      <td>825</td>\n",
       "      <td>53</td>\n",
       "      <td>66</td>\n",
       "      <td>1966</td>\n",
       "      <td>11</td>\n",
       "      <td>Female</td>\n",
       "      <td>462 Rose Lane</td>\n",
       "      <td>34.15</td>\n",
       "      <td>-117.76</td>\n",
       "      <td>$29278</td>\n",
       "      <td>...</td>\n",
       "      <td>$157.04</td>\n",
       "      <td>Swipe Transaction</td>\n",
       "      <td>61195.0</td>\n",
       "      <td>Mira Loma</td>\n",
       "      <td>CA</td>\n",
       "      <td>91752</td>\n",
       "      <td>5541</td>\n",
       "      <td>NaN</td>\n",
       "      <td>7487259</td>\n",
       "      <td>fraude=no</td>\n",
       "    </tr>\n",
       "    <tr>\n",
       "      <th>2</th>\n",
       "      <td>825</td>\n",
       "      <td>53</td>\n",
       "      <td>66</td>\n",
       "      <td>1966</td>\n",
       "      <td>11</td>\n",
       "      <td>Female</td>\n",
       "      <td>462 Rose Lane</td>\n",
       "      <td>34.15</td>\n",
       "      <td>-117.76</td>\n",
       "      <td>$29278</td>\n",
       "      <td>...</td>\n",
       "      <td>$158.44</td>\n",
       "      <td>Swipe Transaction</td>\n",
       "      <td>46284.0</td>\n",
       "      <td>Monterey Park</td>\n",
       "      <td>CA</td>\n",
       "      <td>91754</td>\n",
       "      <td>5411</td>\n",
       "      <td>NaN</td>\n",
       "      <td>7491198</td>\n",
       "      <td>fraude=no</td>\n",
       "    </tr>\n",
       "    <tr>\n",
       "      <th>3</th>\n",
       "      <td>825</td>\n",
       "      <td>53</td>\n",
       "      <td>66</td>\n",
       "      <td>1966</td>\n",
       "      <td>11</td>\n",
       "      <td>Female</td>\n",
       "      <td>462 Rose Lane</td>\n",
       "      <td>34.15</td>\n",
       "      <td>-117.76</td>\n",
       "      <td>$29278</td>\n",
       "      <td>...</td>\n",
       "      <td>$129.25</td>\n",
       "      <td>Swipe Transaction</td>\n",
       "      <td>61195.0</td>\n",
       "      <td>Mira Loma</td>\n",
       "      <td>CA</td>\n",
       "      <td>91752</td>\n",
       "      <td>5541</td>\n",
       "      <td>NaN</td>\n",
       "      <td>7522547</td>\n",
       "      <td>fraude=no</td>\n",
       "    </tr>\n",
       "    <tr>\n",
       "      <th>4</th>\n",
       "      <td>825</td>\n",
       "      <td>53</td>\n",
       "      <td>66</td>\n",
       "      <td>1966</td>\n",
       "      <td>11</td>\n",
       "      <td>Female</td>\n",
       "      <td>462 Rose Lane</td>\n",
       "      <td>34.15</td>\n",
       "      <td>-117.76</td>\n",
       "      <td>$29278</td>\n",
       "      <td>...</td>\n",
       "      <td>$42.79</td>\n",
       "      <td>Swipe Transaction</td>\n",
       "      <td>20519.0</td>\n",
       "      <td>Monterey Park</td>\n",
       "      <td>CA</td>\n",
       "      <td>91755</td>\n",
       "      <td>5942</td>\n",
       "      <td>NaN</td>\n",
       "      <td>7522679</td>\n",
       "      <td>fraude=no</td>\n",
       "    </tr>\n",
       "  </tbody>\n",
       "</table>\n",
       "<p>5 rows × 38 columns</p>\n",
       "</div>"
      ],
      "text/plain": [
       "   id_user  current_age  retirement_age  birth_year  birth_month  gender  \\\n",
       "0      825           53              66        1966           11  Female   \n",
       "1      825           53              66        1966           11  Female   \n",
       "2      825           53              66        1966           11  Female   \n",
       "3      825           53              66        1966           11  Female   \n",
       "4      825           53              66        1966           11  Female   \n",
       "\n",
       "         address  latitude  longitude per_capita_income  ...   amount  \\\n",
       "0  462 Rose Lane     34.15    -117.76            $29278  ...   $57.82   \n",
       "1  462 Rose Lane     34.15    -117.76            $29278  ...  $157.04   \n",
       "2  462 Rose Lane     34.15    -117.76            $29278  ...  $158.44   \n",
       "3  462 Rose Lane     34.15    -117.76            $29278  ...  $129.25   \n",
       "4  462 Rose Lane     34.15    -117.76            $29278  ...   $42.79   \n",
       "\n",
       "            use_chip  merchant_id  merchant_city  merchant_state    zip   mcc  \\\n",
       "0  Swipe Transaction      50072.0       La Verne              CA  91750  5912   \n",
       "1  Swipe Transaction      61195.0      Mira Loma              CA  91752  5541   \n",
       "2  Swipe Transaction      46284.0  Monterey Park              CA  91754  5411   \n",
       "3  Swipe Transaction      61195.0      Mira Loma              CA  91752  5541   \n",
       "4  Swipe Transaction      20519.0  Monterey Park              CA  91755  5942   \n",
       "\n",
       "   errors trans_id     fraude  \n",
       "0     NaN  7483459  fraude=no  \n",
       "1     NaN  7487259  fraude=no  \n",
       "2     NaN  7491198  fraude=no  \n",
       "3     NaN  7522547  fraude=no  \n",
       "4     NaN  7522679  fraude=no  \n",
       "\n",
       "[5 rows x 38 columns]"
      ]
     },
     "execution_count": 4,
     "metadata": {},
     "output_type": "execute_result"
    }
   ],
   "source": [
    "df.head()"
   ]
  },
  {
   "cell_type": "markdown",
   "id": "13b0faa5",
   "metadata": {},
   "source": [
    "##  Question 1.2\n",
    "\n",
    "Dans le tableau user, les variables les moins pertinants sont current_age, retirement_age, latitude, longitude. On n'a pas besoin de savoir l'âge du user si on peut le calculer à partir de la date de naissance. La latitude et la longitude ne sont pas nécessaire lorsqu'on possède l'adresse."
   ]
  },
  {
   "cell_type": "code",
   "execution_count": 5,
   "id": "b90f2c6c",
   "metadata": {},
   "outputs": [],
   "source": [
    "drop_col =[\"current_age\",\"retirement_age\",\"latitude\", \"longitude\"]\n",
    "df.drop(columns = drop_col,inplace=True)"
   ]
  },
  {
   "cell_type": "markdown",
   "id": "fc848045",
   "metadata": {},
   "source": [
    "## Question 1.3\n",
    "les variables les moins pertinants sont current_age, retirement_age, latitude, longitude. On n'a pas besoin de savoir l'âge du user si on peut le calculer à partir de la date de naissance. La latitude et la longitude ne sont pas nécessaire lorsqu'on possède l'adresse\n",
    "Enlever duplicate"
   ]
  },
  {
   "cell_type": "code",
   "execution_count": 6,
   "id": "555f3f4e",
   "metadata": {},
   "outputs": [],
   "source": [
    "df = df.drop_duplicates(subset=['id_user', 'id_card', 'id_transaction'])"
   ]
  },
  {
   "cell_type": "markdown",
   "id": "3bb485b4",
   "metadata": {},
   "source": [
    "Traitement données manquantes"
   ]
  },
  {
   "cell_type": "code",
   "execution_count": 7,
   "id": "bc56efc0",
   "metadata": {},
   "outputs": [
    {
     "data": {
      "text/plain": [
       "id_user                       0\n",
       "birth_year                    0\n",
       "birth_month                   0\n",
       "gender                        0\n",
       "address                       0\n",
       "per_capita_income             0\n",
       "yearly_income                 0\n",
       "total_debt                    0\n",
       "credit_score                  0\n",
       "num_credit_cards              0\n",
       "id_card                       0\n",
       "card_brand                    0\n",
       "card_type                     0\n",
       "card_number                   0\n",
       "expires                       0\n",
       "cvv                           0\n",
       "has_chip                      0\n",
       "num_cards_issued              0\n",
       "credit_limit                  0\n",
       "acct_open_date                0\n",
       "year_pin_last_changed         0\n",
       "card_on_dark_web              0\n",
       "id_transaction                0\n",
       "date                          0\n",
       "amount                        0\n",
       "use_chip                      0\n",
       "merchant_id                   0\n",
       "merchant_city                 0\n",
       "merchant_state            76418\n",
       "zip                       80553\n",
       "mcc                           0\n",
       "errors                   691473\n",
       "trans_id                      0\n",
       "fraude                        0\n",
       "dtype: int64"
      ]
     },
     "execution_count": 7,
     "metadata": {},
     "output_type": "execute_result"
    }
   ],
   "source": [
    "df.isna().sum()"
   ]
  },
  {
   "cell_type": "code",
   "execution_count": 8,
   "id": "bbc97ff2",
   "metadata": {},
   "outputs": [
    {
     "data": {
      "text/plain": [
       "id_user                   0.000000\n",
       "birth_year                0.000000\n",
       "birth_month               0.000000\n",
       "gender                    0.000000\n",
       "address                   0.000000\n",
       "per_capita_income         0.000000\n",
       "yearly_income             0.000000\n",
       "total_debt                0.000000\n",
       "credit_score              0.000000\n",
       "num_credit_cards          0.000000\n",
       "id_card                   0.000000\n",
       "card_brand                0.000000\n",
       "card_type                 0.000000\n",
       "card_number               0.000000\n",
       "expires                   0.000000\n",
       "cvv                       0.000000\n",
       "has_chip                  0.000000\n",
       "num_cards_issued          0.000000\n",
       "credit_limit              0.000000\n",
       "acct_open_date            0.000000\n",
       "year_pin_last_changed     0.000000\n",
       "card_on_dark_web          0.000000\n",
       "id_transaction            0.000000\n",
       "date                      0.000000\n",
       "amount                    0.000000\n",
       "use_chip                  0.000000\n",
       "merchant_id               0.000000\n",
       "merchant_city             0.000000\n",
       "merchant_state           10.877388\n",
       "zip                      11.465966\n",
       "mcc                       0.000000\n",
       "errors                   98.424716\n",
       "trans_id                  0.000000\n",
       "fraude                    0.000000\n",
       "dtype: float64"
      ]
     },
     "execution_count": 8,
     "metadata": {},
     "output_type": "execute_result"
    }
   ],
   "source": [
    "df.isna().mean()*100"
   ]
  },
  {
   "cell_type": "code",
   "execution_count": 9,
   "id": "60e35dad",
   "metadata": {},
   "outputs": [],
   "source": [
    "df.dropna(subset='id_transaction', inplace=True)\n",
    "df.fillna({'errors' : 'no error', }, inplace=True)\n",
    "\n",
    "df.loc[df['merchant_city'] == 'ONLINE', 'merchant_state'] = 'ONLINE'\n",
    "df.loc[df['merchant_city'] == 'ONLINE', 'zip'] = 'ONLINE'\n",
    "df.loc[(df['merchant_state'] != \"ONLINE\") & (df['merchant_state'].str.len() > 2), 'zip'] = \"outside US\""
   ]
  },
  {
   "cell_type": "code",
   "execution_count": 10,
   "id": "771978e5",
   "metadata": {},
   "outputs": [
    {
     "data": {
      "text/plain": [
       "id_user                  0\n",
       "birth_year               0\n",
       "birth_month              0\n",
       "gender                   0\n",
       "address                  0\n",
       "per_capita_income        0\n",
       "yearly_income            0\n",
       "total_debt               0\n",
       "credit_score             0\n",
       "num_credit_cards         0\n",
       "id_card                  0\n",
       "card_brand               0\n",
       "card_type                0\n",
       "card_number              0\n",
       "expires                  0\n",
       "cvv                      0\n",
       "has_chip                 0\n",
       "num_cards_issued         0\n",
       "credit_limit             0\n",
       "acct_open_date           0\n",
       "year_pin_last_changed    0\n",
       "card_on_dark_web         0\n",
       "id_transaction           0\n",
       "date                     0\n",
       "amount                   0\n",
       "use_chip                 0\n",
       "merchant_id              0\n",
       "merchant_city            0\n",
       "merchant_state           0\n",
       "zip                      0\n",
       "mcc                      0\n",
       "errors                   0\n",
       "trans_id                 0\n",
       "fraude                   0\n",
       "dtype: int64"
      ]
     },
     "execution_count": 10,
     "metadata": {},
     "output_type": "execute_result"
    }
   ],
   "source": [
    "df.isna().sum()"
   ]
  },
  {
   "cell_type": "markdown",
   "id": "56fbe952",
   "metadata": {},
   "source": [
    "Ajuster type de données"
   ]
  },
  {
   "cell_type": "code",
   "execution_count": 11,
   "id": "615d3583",
   "metadata": {},
   "outputs": [],
   "source": [
    "\n",
    "# Ajuster type de données de string à float\n",
    "for col in [\"per_capita_income\", \"yearly_income\", \"total_debt\", \"credit_limit\",\"amount\"]:\n",
    "    df[col] = df[col].replace(r\"[\\$,]\", \"\", regex=True).astype(float)\n",
    "\n",
    "# Ajuster type de données de string à datetime\n",
    "for col,formt in [(\"acct_open_date\",'%m/%Y'),(\"expires\",'%m/%Y'),(\"date\",'%Y-%m-%d %H:%M:%S'),(\"year_pin_last_changed\",\"%Y\")]:\n",
    "    df[col] = pd.to_datetime(df[\"acct_open_date\"],errors='coerce',format =formt)\n",
    "\n",
    "# Ajuster type de données de string à bool\n",
    "for col in [\"has_chip\",\"card_on_dark_web\"]:\n",
    "    df[col] = df[col].str.lower().map({\"yes\": True, \"no\": False})"
   ]
  },
  {
   "cell_type": "markdown",
   "id": "28c816a8",
   "metadata": {},
   "source": [
    "## Question 1.4\n",
    "Pour birth_year, birth_month, il  est inutile d'avoir 2 colonnes pour la date de naissance. Dans le tableau transaction les variables merchant_city, merchant_state pourrait juste être une adresse."
   ]
  },
  {
   "cell_type": "markdown",
   "id": "5e236af5",
   "metadata": {},
   "source": [
    "## Question 1.5"
   ]
  },
  {
   "cell_type": "code",
   "execution_count": 12,
   "id": "643eff26",
   "metadata": {},
   "outputs": [
    {
     "data": {
      "image/png": "[encoded data removed]",
      "text/plain": [
       "<Figure size 640x480 with 1 Axes>"
      ]
     },
     "metadata": {},
     "output_type": "display_data"
    },
    {
     "data": {
      "image/png": "[encoded data removed]",
      "text/plain": [
       "<Figure size 640x480 with 1 Axes>"
      ]
     },
     "metadata": {},
     "output_type": "display_data"
    }
   ],
   "source": [
    "merchant = df.groupby(\"merchant_id\").agg({\n",
    "    \"id_transaction\": \"count\",\n",
    "    \"amount\": \"sum\"\n",
    "}).rename(columns={\n",
    "    \"id_transaction\": \"n_transactions\",\n",
    "    \"amount\": \"total_revenue\"\n",
    "})\n",
    "\n",
    "top_merchant_revenue = merchant.nlargest(10, \"total_revenue\")\n",
    "top_merchant_count   = merchant.nlargest(10, \"n_transactions\")\n",
    "\n",
    "top_merchant_revenue.plot(kind = 'pie',y = 'total_revenue')\n",
    "top_merchant_count.plot(kind = 'pie',y = 'n_transactions')\n",
    "plt.show()\n",
    "\n"
   ]
  },
  {
   "cell_type": "markdown",
   "id": "e344d99a",
   "metadata": {},
   "source": [
    "## Question 1.6"
   ]
  },
  {
   "cell_type": "code",
   "execution_count": 13,
   "id": "62708602",
   "metadata": {},
   "outputs": [],
   "source": [
    "df['mcc_description'] = df['mcc'].map(mcc_code).astype(str)\n",
    "\n",
    "\n",
    "encoder = LabelEncoder()\n",
    "df['card_type_encode'] = encoder.fit_transform(df[\"card_type\"])"
   ]
  },
  {
   "cell_type": "code",
   "execution_count": 27,
   "id": "2e03ad6a",
   "metadata": {},
   "outputs": [
    {
     "data": {
      "text/plain": [
       "0           Drug Stores and Pharmacies\n",
       "1                     Service Stations\n",
       "2         Grocery Stores, Supermarkets\n",
       "3                     Service Stations\n",
       "4                          Book Stores\n",
       "                      ...             \n",
       "702535                Service Stations\n",
       "702536    Grocery Stores, Supermarkets\n",
       "702537                     Book Stores\n",
       "702538                 Wholesale Clubs\n",
       "702539               Department Stores\n",
       "Name: mcc_description, Length: 702540, dtype: object"
      ]
     },
     "execution_count": 27,
     "metadata": {},
     "output_type": "execute_result"
    }
   ],
   "source": [
    "df['mcc_description']"
   ]
  },
  {
   "cell_type": "markdown",
   "id": "aae6f3f9",
   "metadata": {},
   "source": [
    "## Question 2"
   ]
  },
  {
   "cell_type": "code",
   "execution_count": 15,
   "id": "7d8e0446",
   "metadata": {},
   "outputs": [],
   "source": [
    "q1 = df['amount'].quantile(0.25)\n",
    "q2 = df['amount'].quantile(0.50)\n",
    "q3 = df['amount'].quantile(0.75)\n",
    "\n",
    "def categorize_amount_quartile ( x ) :\n",
    "    if x <= q1 :\n",
    "        return 'amount_low'\n",
    "    elif x <= q2 :\n",
    "        return  'amount_medium'\n",
    "    elif x <= q3 :\n",
    "        return 'amount_high'\n",
    "    else :\n",
    "        return 'amount_very_high'\n",
    "    \n",
    "df['amount_item'] = df['amount'].apply(categorize_amount_quartile)\n",
    "df['credit_score_item'] = df['credit_score'].apply( \n",
    "    lambda x : 'credit_high' if x >= 700 else ('credit_medium' if\n",
    "    x >= 500 else 'credit_low')\n",
    ")\n",
    "df['card_type_item'] = df['card_type'].apply( lambda x : f'card_ {x.lower ()}')\n",
    "df['merchant_state_item'] = df['merchant_state'].apply( lambda x :f'state_ {x}')\n",
    "df['mcc_item'] = df['mcc_description'].apply( lambda x : f'mcc_ {x.replace (\" \" , \"_\").lower ()}')\n",
    "\n",
    "cols_to_unstack = ['mcc_item', 'card_type_item','merchant_state_item', 'amount_item', 'credit_score_item']\n",
    "df_base = df[[ 'id_user', 'id_card']].copy()\n",
    "df_base.rename( columns ={ 'id_user': 'client_id'} , inplace = True)\n",
    "df_long = pd.melt(pd.concat([ df_base ,df[ cols_to_unstack ]] , axis =1) ,id_vars =[ 'client_id', 'id_card'] , value_vars = cols_to_unstack , value_name ='itemname') [[ 'client_id', 'id_card', 'itemname']]\n"
   ]
  },
  {
   "cell_type": "code",
   "execution_count": 16,
   "id": "1a4eab45",
   "metadata": {},
   "outputs": [
    {
     "data": {
      "text/html": [
       "<div>\n",
       "<style scoped>\n",
       "    .dataframe tbody tr th:only-of-type {\n",
       "        vertical-align: middle;\n",
       "    }\n",
       "\n",
       "    .dataframe tbody tr th {\n",
       "        vertical-align: top;\n",
       "    }\n",
       "\n",
       "    .dataframe thead th {\n",
       "        text-align: right;\n",
       "    }\n",
       "</style>\n",
       "<table border=\"1\" class=\"dataframe\">\n",
       "  <thead>\n",
       "    <tr style=\"text-align: right;\">\n",
       "      <th></th>\n",
       "      <th>client_id</th>\n",
       "      <th>id_card</th>\n",
       "      <th>itemname</th>\n",
       "    </tr>\n",
       "  </thead>\n",
       "  <tbody>\n",
       "    <tr>\n",
       "      <th>0</th>\n",
       "      <td>825</td>\n",
       "      <td>4524</td>\n",
       "      <td>mcc_ drug_stores_and_pharmacies</td>\n",
       "    </tr>\n",
       "    <tr>\n",
       "      <th>1</th>\n",
       "      <td>825</td>\n",
       "      <td>4524</td>\n",
       "      <td>mcc_ service_stations</td>\n",
       "    </tr>\n",
       "    <tr>\n",
       "      <th>2</th>\n",
       "      <td>825</td>\n",
       "      <td>4524</td>\n",
       "      <td>mcc_ grocery_stores,_supermarkets</td>\n",
       "    </tr>\n",
       "    <tr>\n",
       "      <th>3</th>\n",
       "      <td>825</td>\n",
       "      <td>4524</td>\n",
       "      <td>mcc_ service_stations</td>\n",
       "    </tr>\n",
       "    <tr>\n",
       "      <th>4</th>\n",
       "      <td>825</td>\n",
       "      <td>4524</td>\n",
       "      <td>mcc_ book_stores</td>\n",
       "    </tr>\n",
       "    <tr>\n",
       "      <th>...</th>\n",
       "      <td>...</td>\n",
       "      <td>...</td>\n",
       "      <td>...</td>\n",
       "    </tr>\n",
       "    <tr>\n",
       "      <th>3512695</th>\n",
       "      <td>185</td>\n",
       "      <td>5361</td>\n",
       "      <td>credit_high</td>\n",
       "    </tr>\n",
       "    <tr>\n",
       "      <th>3512696</th>\n",
       "      <td>185</td>\n",
       "      <td>5361</td>\n",
       "      <td>credit_high</td>\n",
       "    </tr>\n",
       "    <tr>\n",
       "      <th>3512697</th>\n",
       "      <td>185</td>\n",
       "      <td>5361</td>\n",
       "      <td>credit_high</td>\n",
       "    </tr>\n",
       "    <tr>\n",
       "      <th>3512698</th>\n",
       "      <td>185</td>\n",
       "      <td>5361</td>\n",
       "      <td>credit_high</td>\n",
       "    </tr>\n",
       "    <tr>\n",
       "      <th>3512699</th>\n",
       "      <td>185</td>\n",
       "      <td>5361</td>\n",
       "      <td>credit_high</td>\n",
       "    </tr>\n",
       "  </tbody>\n",
       "</table>\n",
       "<p>3512700 rows × 3 columns</p>\n",
       "</div>"
      ],
      "text/plain": [
       "         client_id  id_card                           itemname\n",
       "0              825     4524    mcc_ drug_stores_and_pharmacies\n",
       "1              825     4524              mcc_ service_stations\n",
       "2              825     4524  mcc_ grocery_stores,_supermarkets\n",
       "3              825     4524              mcc_ service_stations\n",
       "4              825     4524                   mcc_ book_stores\n",
       "...            ...      ...                                ...\n",
       "3512695        185     5361                        credit_high\n",
       "3512696        185     5361                        credit_high\n",
       "3512697        185     5361                        credit_high\n",
       "3512698        185     5361                        credit_high\n",
       "3512699        185     5361                        credit_high\n",
       "\n",
       "[3512700 rows x 3 columns]"
      ]
     },
     "execution_count": 16,
     "metadata": {},
     "output_type": "execute_result"
    }
   ],
   "source": [
    "df_long"
   ]
  },
  {
   "cell_type": "code",
   "execution_count": null,
   "id": "58b7cef6",
   "metadata": {},
   "outputs": [],
   "source": [
    "transactions = df_long.groupby(['client_id', 'id_card'])['itemname'].apply(list).tolist()\n",
    "\n",
    "te = TransactionEncoder()\n",
    "te_array = te.fit(transactions).transform(transactions)\n",
    "df_encoded = pd.DataFrame(te_array, columns=te.columns_)\n",
    "\n",
    "frequent_itemsets = fpgrowth(df_encoded, min_support=.9, use_colnames=True)\n",
    "\n",
    "rules = association_rules(frequent_itemsets, metric=\"confidence\", min_threshold=0.5)\n"
   ]
  },
  {
   "cell_type": "code",
   "execution_count": 25,
   "id": "19ef110c",
   "metadata": {},
   "outputs": [],
   "source": [
    "#pd.set_option(\"display.max_rows\", None)\n",
    "# Display top rules sorted by lift\n",
    "rules[['antecedents', 'consequents', 'support', 'confidence', 'lift']].to_csv(\"association_rules.csv\", index=False)"
   ]
  },
  {
   "cell_type": "code",
   "execution_count": null,
   "id": "97d75180",
   "metadata": {},
   "outputs": [
    {
     "name": "stderr",
     "output_type": "stream",
     "text": [
      "C:\\Users\\charl\\AppData\\Local\\Temp\\ipykernel_16628\\2611442652.py:4: FutureWarning: DataFrameGroupBy.apply operated on the grouping columns. This behavior is deprecated, and in a future version of pandas the grouping columns will be excluded from the operation. Either pass `include_groups=False` to exclude the groupings or explicitly select the grouping columns after groupby to silence this warning.\n",
      "  client_sequences = df_sorted.groupby('id_user').apply(\n"
     ]
    }
   ],
   "source": [
    "#pd.reset_option(\"display.max_rows\")\n",
    "\n",
    "df_sorted = df.sort_values(by=['id_user', 'date'])\n",
    "client_sequences = df_sorted.groupby('id_user').apply(\n",
    "    lambda x: x[['date', 'mcc_description', 'amount', 'merchant_state', 'card_type']].to_dict(orient='records')\n",
    ")"
   ]
  }
 ],
 "metadata": {
  "kernelspec": {
   "display_name": "Python 3",
   "language": "python",
   "name": "python3"
  },
  "language_info": {
   "codemirror_mode": {
    "name": "ipython",
    "version": 3
   },
   "file_extension": ".py",
   "mimetype": "text/x-python",
   "name": "python",
   "nbconvert_exporter": "python",
   "pygments_lexer": "ipython3",
   "version": "3.12.1"
  }
 },
 "nbformat": 4,
 "nbformat_minor": 5
}
